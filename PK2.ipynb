{
  "nbformat": 4,
  "nbformat_minor": 0,
  "metadata": {
    "colab": {
      "provenance": []
    },
    "kernelspec": {
      "name": "python3",
      "display_name": "Python 3"
    },
    "language_info": {
      "name": "python"
    }
  },
  "cells": [
    {
      "cell_type": "code",
      "source": [
        "pip install numpy pandas"
      ],
      "metadata": {
        "colab": {
          "base_uri": "https://localhost:8080/"
        },
        "id": "0pU_Gqjk4YVr",
        "outputId": "d6dc5714-066a-4e4e-d7b5-d24b72e496ed"
      },
      "execution_count": 3,
      "outputs": [
        {
          "output_type": "stream",
          "name": "stdout",
          "text": [
            "Requirement already satisfied: numpy in /usr/local/lib/python3.10/dist-packages (1.25.2)\n",
            "Requirement already satisfied: pandas in /usr/local/lib/python3.10/dist-packages (2.0.3)\n",
            "Requirement already satisfied: python-dateutil>=2.8.2 in /usr/local/lib/python3.10/dist-packages (from pandas) (2.8.2)\n",
            "Requirement already satisfied: pytz>=2020.1 in /usr/local/lib/python3.10/dist-packages (from pandas) (2023.4)\n",
            "Requirement already satisfied: tzdata>=2022.1 in /usr/local/lib/python3.10/dist-packages (from pandas) (2024.1)\n",
            "Requirement already satisfied: six>=1.5 in /usr/local/lib/python3.10/dist-packages (from python-dateutil>=2.8.2->pandas) (1.16.0)\n"
          ]
        }
      ]
    },
    {
      "cell_type": "code",
      "source": [
        "import numpy as np\n",
        "import pandas as pd\n",
        "\n",
        "# 设置随机种子以获得可重现结果\n",
        "np.random.seed(0)\n",
        "\n",
        "# 创建一个含有100个数据点的DataFrame，数据正态分布，均值为50，标准差为10\n",
        "data = pd.DataFrame({'Values': np.random.normal(50, 10, 100)})\n",
        "\n",
        "# 故意添加异常值\n",
        "outliers = pd.DataFrame({'Values': [150, -50, 200, -100]})\n",
        "data = pd.concat([data, outliers], ignore_index=True)\n",
        "\n",
        "print(\"原始数据集大小: \", data.shape)\n",
        "\n",
        "# 计算均值和标准差\n",
        "mean = data['Values'].mean()\n",
        "std = data['Values'].std()\n",
        "\n",
        "# 三西格玛规则的边界\n",
        "lower_bound = mean - 3*std\n",
        "upper_bound = mean + 3*std\n",
        "\n",
        "# 筛选数据以去除异常值\n",
        "filtered_data = data[(data['Values'] >= lower_bound) & (data['Values'] <= upper_bound)]\n",
        "\n",
        "print(\"过滤掉异常值后的数据集大小: \", filtered_data.shape)\n",
        "\n",
        "# 展示被认定为异常的数据点\n",
        "print(\"被认定为异常的数据点: \")\n",
        "print(data[(data['Values'] < lower_bound) | (data['Values'] > upper_bound)])"
      ],
      "metadata": {
        "colab": {
          "base_uri": "https://localhost:8080/"
        },
        "id": "X6n-MeMJ5G18",
        "outputId": "badd703d-65c0-48af-fc27-a901203aec0c"
      },
      "execution_count": 6,
      "outputs": [
        {
          "output_type": "stream",
          "name": "stdout",
          "text": [
            "原始数据集大小:  (104, 1)\n",
            "过滤掉异常值后的数据集大小:  (100, 1)\n",
            "被认定为异常的数据点: \n",
            "     Values\n",
            "100   150.0\n",
            "101   -50.0\n",
            "102   200.0\n",
            "103  -100.0\n"
          ]
        }
      ]
    }
  ]
}